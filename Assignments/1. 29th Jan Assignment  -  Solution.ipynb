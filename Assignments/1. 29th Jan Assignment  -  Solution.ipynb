{
 "cells": [
  {
   "cell_type": "markdown",
   "id": "01f1b8af",
   "metadata": {},
   "source": [
    "### Assignment1"
   ]
  },
  {
   "cell_type": "markdown",
   "id": "18ff03e0",
   "metadata": {},
   "source": [
    "1. Who developed the python programming language?    \n",
    "**Ans:** Guido Van Rossum"
   ]
  },
  {
   "cell_type": "markdown",
   "id": "0310e16c",
   "metadata": {},
   "source": [
    "2. Which type of programming does python support?\n",
    "**Ans:** Object oriented programming and structured programming"
   ]
  },
  {
   "cell_type": "markdown",
   "id": "0c972be5",
   "metadata": {},
   "source": [
    "3. Is python case sensitive when dealing with identifiers?\n",
    "**Ans:** Yes"
   ]
  },
  {
   "cell_type": "markdown",
   "id": "6cb5ba3a",
   "metadata": {},
   "source": [
    " 4. What is the correct extension of the python file?\n",
    " **Ans:** .py"
   ]
  },
  {
   "cell_type": "markdown",
   "id": "ed77678c",
   "metadata": {},
   "source": [
    "5. Is python code compiled or interpreted?\n",
    "**Ans:** Interpreted"
   ]
  },
  {
   "cell_type": "markdown",
   "id": "fb4d5a2d",
   "metadata": {},
   "source": [
    "6. Name a few blocks of code used to define in the python language?\n",
    "**Ans:** Indentation is used to define block of code\n",
    "Different code block can be:\n",
    " * if block\n",
    " * for block\n",
    " * while block\n",
    " * fucntion block   \n",
    " etc"
   ]
  },
  {
   "cell_type": "markdown",
   "id": "8784b500",
   "metadata": {},
   "source": [
    "7. State a character used to give single line comments in python?\n",
    "**Ans:** #"
   ]
  },
  {
   "cell_type": "markdown",
   "id": "4e437178",
   "metadata": {},
   "source": [
    "8. Mention function which can help us to find the version of python that we are currently working on?\n",
    "**Ans:** sys.version"
   ]
  },
  {
   "cell_type": "code",
   "execution_count": 18,
   "id": "bb1a1341",
   "metadata": {},
   "outputs": [
    {
     "name": "stdout",
     "output_type": "stream",
     "text": [
      "3.9.13 (main, Aug 25 2022, 23:51:50) [MSC v.1916 64 bit (AMD64)]\n"
     ]
    }
   ],
   "source": [
    "import sys\n",
    "print(sys.version)"
   ]
  },
  {
   "cell_type": "markdown",
   "id": "b38752f8",
   "metadata": {},
   "source": [
    "9. Python support the creation of anonymous function at runtime, using a construct called _______\n",
    "**Ans:** Lambda Function"
   ]
  },
  {
   "cell_type": "markdown",
   "id": "c33c8705",
   "metadata": {},
   "source": [
    "10. What does pip stand for python?\n",
    "**Ans:** \n",
    "* pip stands for Python Install Packag. \n",
    "* pip is the package installer for Python. \n",
    "*  pip is used to install packages from the Python Package Index and other indexes."
   ]
  },
  {
   "cell_type": "markdown",
   "id": "dcdde6e3",
   "metadata": {},
   "source": [
    "11. Mention a few built-in functions in python?\n",
    "**Ans:** \n",
    "* print()\n",
    "* input()\n",
    "* len()\n",
    "* max()\n",
    "* min()\n",
    "* int()\n",
    "* id()"
   ]
  },
  {
   "cell_type": "markdown",
   "id": "3e84394c",
   "metadata": {},
   "source": [
    "12. What is the maximum possible length of an identifier in python?\n",
    "**Ans:** 79 characters"
   ]
  },
  {
   "cell_type": "markdown",
   "id": "de8ea8a7",
   "metadata": {},
   "source": [
    "13. What are the benefits of using python?\n",
    "**Ans:** \n",
    "* Extensive support libraries(NumPy for numerical calculations, Pandas for data analytics, etc.) \n",
    "* Open source and large active community base \n",
    "* Versatile, Easy to read, learn and write\n",
    "* Dynamically typed language(No need to mention data type based on the value assigned, it takes data type) \n"
   ]
  },
  {
   "cell_type": "markdown",
   "id": "256aeb05",
   "metadata": {},
   "source": [
    "14. How is memory managed in python?\n",
    "**Ans:** Memory management in Python involves a private heap containing all Python objects and data structures. The management of this private heap is ensured internally by the Python memory manager. "
   ]
  },
  {
   "cell_type": "markdown",
   "id": "4da959fa",
   "metadata": {},
   "source": [
    "15. How to install python on windows and set path variables? \n",
    "**Ans:** \n",
    "* Install python from the link https://www.python.org/downloads/ .   \n",
    "The complete path of python.exe can be added by:\n",
    "* Right-clicking This PC and going to Properties.\n",
    "* Clicking on the Advanced system settings in the menu on the left.\n",
    "* Clicking on the Environment Variables button o​n the bottom right.\n",
    "* In the System variables section, selecting the Path variable and clicking on Edit. The next screen will show all the directories that are currently a part of the PATH variable.\n",
    "* Clicking on New and enterPython’s install directory."
   ]
  },
  {
   "cell_type": "markdown",
   "id": "ab1d26e7",
   "metadata": {},
   "source": [
    "16. Is indentaion required in python.\n",
    "**Ans:** Yes, indentaion is required in python to define the block of code."
   ]
  },
  {
   "cell_type": "code",
   "execution_count": null,
   "id": "3205f638",
   "metadata": {},
   "outputs": [],
   "source": []
  }
 ],
 "metadata": {
  "kernelspec": {
   "display_name": "Python 3 (ipykernel)",
   "language": "python",
   "name": "python3"
  },
  "language_info": {
   "codemirror_mode": {
    "name": "ipython",
    "version": 3
   },
   "file_extension": ".py",
   "mimetype": "text/x-python",
   "name": "python",
   "nbconvert_exporter": "python",
   "pygments_lexer": "ipython3",
   "version": "3.9.13"
  }
 },
 "nbformat": 4,
 "nbformat_minor": 5
}
